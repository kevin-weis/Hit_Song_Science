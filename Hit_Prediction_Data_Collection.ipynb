{
  "nbformat": 4,
  "nbformat_minor": 0,
  "metadata": {
    "colab": {
      "name": "Hit_Prediction_Data_Collection",
      "provenance": [],
      "authorship_tag": "ABX9TyNm/VemfbPT5jejlw5FbMCO",
      "include_colab_link": true
    },
    "kernelspec": {
      "name": "python3",
      "display_name": "Python 3"
    },
    "language_info": {
      "name": "python"
    }
  },
  "cells": [
    {
      "cell_type": "markdown",
      "metadata": {
        "id": "view-in-github",
        "colab_type": "text"
      },
      "source": [
        "<a href=\"https://colab.research.google.com/github/kevin-weis/Hit_Song_Science/blob/main/Hit_Prediction_Data_Collection.ipynb\" target=\"_parent\"><img src=\"https://colab.research.google.com/assets/colab-badge.svg\" alt=\"Open In Colab\"/></a>"
      ]
    },
    {
      "cell_type": "code",
      "metadata": {
        "colab": {
          "base_uri": "https://localhost:8080/"
        },
        "id": "Z1je1gbllEDf",
        "outputId": "71faaf59-13ca-418d-ffbd-3a217e1110f1"
      },
      "source": [
        "! pip install spotipy"
      ],
      "execution_count": null,
      "outputs": [
        {
          "output_type": "stream",
          "text": [
            "Collecting spotipy\n",
            "  Downloading https://files.pythonhosted.org/packages/02/9b/25b96cd2f1e2174ac787099b386e2afd427bf78dfb11e1c5857affc3409d/spotipy-2.18.0-py3-none-any.whl\n",
            "Requirement already satisfied: six>=1.15.0 in /usr/local/lib/python3.7/dist-packages (from spotipy) (1.15.0)\n",
            "Collecting requests>=2.25.0\n",
            "\u001b[?25l  Downloading https://files.pythonhosted.org/packages/29/c1/24814557f1d22c56d50280771a17307e6bf87b70727d975fd6b2ce6b014a/requests-2.25.1-py2.py3-none-any.whl (61kB)\n",
            "\u001b[K     |████████████████████████████████| 61kB 4.7MB/s \n",
            "\u001b[?25hCollecting urllib3>=1.26.0\n",
            "\u001b[?25l  Downloading https://files.pythonhosted.org/packages/0c/cd/1e2ec680ec7b09846dc6e605f5a7709dfb9d7128e51a026e7154e18a234e/urllib3-1.26.5-py2.py3-none-any.whl (138kB)\n",
            "\u001b[K     |████████████████████████████████| 143kB 21.0MB/s \n",
            "\u001b[?25hRequirement already satisfied: certifi>=2017.4.17 in /usr/local/lib/python3.7/dist-packages (from requests>=2.25.0->spotipy) (2021.5.30)\n",
            "Requirement already satisfied: idna<3,>=2.5 in /usr/local/lib/python3.7/dist-packages (from requests>=2.25.0->spotipy) (2.10)\n",
            "Requirement already satisfied: chardet<5,>=3.0.2 in /usr/local/lib/python3.7/dist-packages (from requests>=2.25.0->spotipy) (3.0.4)\n",
            "\u001b[31mERROR: google-colab 1.0.0 has requirement requests~=2.23.0, but you'll have requests 2.25.1 which is incompatible.\u001b[0m\n",
            "\u001b[31mERROR: datascience 0.10.6 has requirement folium==0.2.1, but you'll have folium 0.8.3 which is incompatible.\u001b[0m\n",
            "Installing collected packages: urllib3, requests, spotipy\n",
            "  Found existing installation: urllib3 1.24.3\n",
            "    Uninstalling urllib3-1.24.3:\n",
            "      Successfully uninstalled urllib3-1.24.3\n",
            "  Found existing installation: requests 2.23.0\n",
            "    Uninstalling requests-2.23.0:\n",
            "      Successfully uninstalled requests-2.23.0\n",
            "Successfully installed requests-2.25.1 spotipy-2.18.0 urllib3-1.26.5\n"
          ],
          "name": "stdout"
        }
      ]
    },
    {
      "cell_type": "code",
      "metadata": {
        "id": "DFhgKoYxkXfA"
      },
      "source": [
        "from spotipy.oauth2 import SpotifyClientCredentials\n",
        "from tqdm import tqdm_notebook\n",
        "import spotipy\n",
        "import pandas as pd\n",
        "import numpy as np\n",
        "\n",
        "client_id = 'b0a721515fbe4aa689f4685942d43527'\n",
        "client_secret = 'c788d362a41645fc9d30369195d66d65'\n",
        "client_credentials_manager = SpotifyClientCredentials(client_id=client_id, client_secret=client_secret)\n",
        "sp = spotipy.Spotify(client_credentials_manager=client_credentials_manager, requests_timeout=100)"
      ],
      "execution_count": null,
      "outputs": []
    },
    {
      "cell_type": "code",
      "metadata": {
        "id": "jGH5yG6slJIt"
      },
      "source": [
        "def analyze_playlist(creator, playlist_id):\n",
        "\n",
        "  #create empty dataframe\n",
        "  playlist_features_list = ['artist', 'album', 'track_name', 'track_id', \n",
        "                            'danceability', 'energy', 'key', 'loudness', 'mode', 'speechiness',\n",
        "                            'instrumentalness', 'liveness', 'valence', 'tempo', 'duration_ms', 'time_signature']\n",
        "  playlist_df = pd.DataFrame(columns = playlist_features_list)\n",
        "\n",
        "  #create empty dict\n",
        "  playlist_features = {}\n",
        "\n",
        "  #loop through every track in the playlist, extract features, and append the features to the playlist df\n",
        "  playlist = sp.user_playlist_tracks(creator, playlist_id)['items']\n",
        "  for track in playlist:\n",
        "    #get metadata\n",
        "    playlist_features['artist'] = track['track']['album']['artists'][0]['name']\n",
        "    playlist_features['album'] = track['track']['album']['name']\n",
        "    playlist_features['track_name'] = track['track']['name']\n",
        "    playlist_features['track_id'] = track['track']['id']\n",
        "\n",
        "    #get audio features\n",
        "    audio_features = sp.audio_features(playlist_features['track_id'])[0]\n",
        "    for feature in playlist_features_list[4:]:\n",
        "      playlist_features[feature] = audio_features[feature]\n",
        "\n",
        "    #concat the dfs\n",
        "    track_df = pd.DataFrame(playlist_features, index = [0])\n",
        "    playlist_df = pd.concat([playlist_df, track_df], ignore_index= True)\n",
        "  \n",
        "  return playlist_df"
      ],
      "execution_count": null,
      "outputs": []
    },
    {
      "cell_type": "code",
      "metadata": {
        "id": "lcosyuItnU_u"
      },
      "source": [
        "# get all playlists created by spotify as starting point for creating dataset of songs and their audio features\n",
        "spotify_playlists = sp.user_playlists(user='spotify')"
      ],
      "execution_count": null,
      "outputs": []
    },
    {
      "cell_type": "code",
      "metadata": {
        "id": "ZsbVv69vQn7Y"
      },
      "source": [
        "df = pd.DataFrame(columns=['artist', 'album', 'track_name', 'track_id', \n",
        "                           'danceability', 'energy', 'key', 'loudness',\n",
        "                           'mode', 'speechiness', 'instrumentalness',\n",
        "                           'liveness', 'valence', 'tempo', 'duration_ms',\n",
        "                           'time_signature'])"
      ],
      "execution_count": null,
      "outputs": []
    },
    {
      "cell_type": "code",
      "metadata": {
        "id": "8DR6ZVAynd8E"
      },
      "source": [
        "for playlists in range(0, len(spotify_playlists['items'])):\n",
        "  pl_id = 'spotify:playlist:'+spotify_playlists['items'][playlists]['id']\n",
        "  try:\n",
        "    df = df.append(analyze_playlist(\"spotify:user:spotify\", str(pl_id)))\n",
        "  except:\n",
        "    pass"
      ],
      "execution_count": null,
      "outputs": []
    },
    {
      "cell_type": "code",
      "metadata": {
        "colab": {
          "base_uri": "https://localhost:8080/"
        },
        "id": "6qGo7PK2nvuH",
        "outputId": "0a06ea7c-1884-41fe-aea9-33cff963cce8"
      },
      "source": [
        "df.shape"
      ],
      "execution_count": null,
      "outputs": [
        {
          "output_type": "execute_result",
          "data": {
            "text/plain": [
              "(3072, 16)"
            ]
          },
          "metadata": {
            "tags": []
          },
          "execution_count": 7
        }
      ]
    },
    {
      "cell_type": "code",
      "metadata": {
        "colab": {
          "base_uri": "https://localhost:8080/"
        },
        "id": "a09V_uRUn6IG",
        "outputId": "bd796b67-0fa2-432a-db74-90678cae928d"
      },
      "source": [
        "unique_artists = list(set(df['artist']))\n",
        "print(unique_artists[:5])\n",
        "print(len(unique_artists))"
      ],
      "execution_count": null,
      "outputs": [
        {
          "output_type": "stream",
          "text": [
            "['Kamo Mphela', 'JID', 'Vedo', 'LPB Poody', 'Leonard Anderson']\n",
            "1596\n"
          ],
          "name": "stdout"
        }
      ]
    },
    {
      "cell_type": "code",
      "metadata": {
        "id": "moYnh10KoQfE"
      },
      "source": [
        "#use related artists of each of these artists to get the ids of all the related artists\n",
        "related_artists = []\n",
        "search = []\n",
        "for artist in unique_artists:\n",
        "  ar = sp.search(artist)\n",
        "  ar_id = ar['tracks']['items'][0]['artists'][0]['id']\n",
        "  artist_id = \"spotify:artist:\"+ar_id\n",
        "  related_artists.append(sp.artist_related_artists(artist_id))\n"
      ],
      "execution_count": null,
      "outputs": []
    },
    {
      "cell_type": "code",
      "metadata": {
        "colab": {
          "base_uri": "https://localhost:8080/",
          "height": 35
        },
        "id": "wZ7-QaeJp9yN",
        "outputId": "59b5645e-1a72-4ac6-ad65-1d015c79235f"
      },
      "source": [
        "related_artists[1]['artists'][0]['id']"
      ],
      "execution_count": null,
      "outputs": [
        {
          "output_type": "execute_result",
          "data": {
            "application/vnd.google.colaboratory.intrinsic+json": {
              "type": "string"
            },
            "text/plain": [
              "'5REHfa3YDopGOzrxwTsPvH'"
            ]
          },
          "metadata": {
            "tags": []
          },
          "execution_count": 10
        }
      ]
    },
    {
      "cell_type": "code",
      "metadata": {
        "colab": {
          "base_uri": "https://localhost:8080/"
        },
        "id": "1pVsVo64qCEw",
        "outputId": "68833a58-d525-4e9c-9938-a2055cb42022"
      },
      "source": [
        "len(related_artists)"
      ],
      "execution_count": null,
      "outputs": [
        {
          "output_type": "execute_result",
          "data": {
            "text/plain": [
              "1596"
            ]
          },
          "metadata": {
            "tags": []
          },
          "execution_count": 11
        }
      ]
    },
    {
      "cell_type": "code",
      "metadata": {
        "id": "JMulTbdkqMOG"
      },
      "source": [
        "rl_ids = []\n",
        "related_ids = []\n",
        "for i in range(len(related_artists)):\n",
        "  rl_dict = related_artists[i]\n",
        "  try:\n",
        "    for i in range(0, len(rl_dict['artists'])-1):\n",
        "      rl_id = rl_dict['artists'][i]['id']\n",
        "      rl_ids.append(\"spotify:artist:\"+rl_id)\n",
        "  except:\n",
        "    pass"
      ],
      "execution_count": null,
      "outputs": []
    },
    {
      "cell_type": "code",
      "metadata": {
        "colab": {
          "base_uri": "https://localhost:8080/"
        },
        "id": "-ZcWX-j4r9PJ",
        "outputId": "121eff13-1489-47f2-d73b-7ee33dcc97f5"
      },
      "source": [
        "print(rl_ids[:3])"
      ],
      "execution_count": null,
      "outputs": [
        {
          "output_type": "stream",
          "text": [
            "['spotify:artist:1nVEvn7RMNxj27rn0WE13E', 'spotify:artist:0Mu3PMBPwtQh5iggGTmudK', 'spotify:artist:2Hj2zBCjnAnmLmNIyjuMGo']\n"
          ],
          "name": "stdout"
        }
      ]
    },
    {
      "cell_type": "code",
      "metadata": {
        "colab": {
          "base_uri": "https://localhost:8080/"
        },
        "id": "5HrlGhswr-tU",
        "outputId": "1a563c29-4918-4b19-b470-ff7c5f8aa1df"
      },
      "source": [
        "print(len(rl_ids))"
      ],
      "execution_count": null,
      "outputs": [
        {
          "output_type": "stream",
          "text": [
            "29612\n"
          ],
          "name": "stdout"
        }
      ]
    },
    {
      "cell_type": "code",
      "metadata": {
        "colab": {
          "base_uri": "https://localhost:8080/"
        },
        "id": "pHq_AiHksOW-",
        "outputId": "d0c76cea-a6e0-4f45-86bf-0a2bd5c15428"
      },
      "source": [
        "unique_ids = list(set(rl_ids))\n",
        "len(unique_ids)"
      ],
      "execution_count": null,
      "outputs": [
        {
          "output_type": "execute_result",
          "data": {
            "text/plain": [
              "9680"
            ]
          },
          "metadata": {
            "tags": []
          },
          "execution_count": 15
        }
      ]
    },
    {
      "cell_type": "code",
      "metadata": {
        "id": "zpSdim72sRxa"
      },
      "source": [
        "# get song ids for every song from all these artists to create a large dataset of song ids that can be used for audio feature extraction\n",
        "song_ids = []\n",
        "for id in unique_ids:\n",
        "  albums = sp.artist_albums(id)\n",
        "  try:\n",
        "    for i in range(0, len(albums)):\n",
        "      album_id = albums['items'][i]['id']\n",
        "      album_tracks = sp.album_tracks(album_id)\n",
        "      for i in album_tracks.items():\n",
        "        s=album_tracks['items']\n",
        "        for i in range(len(s)-1):\n",
        "          song_ids.append(s[i]['uri'])\n",
        "  except:\n",
        "    pass"
      ],
      "execution_count": null,
      "outputs": []
    },
    {
      "cell_type": "code",
      "metadata": {
        "colab": {
          "base_uri": "https://localhost:8080/"
        },
        "id": "Luy2W3fPstIx",
        "outputId": "007b4dab-a101-41cc-c63a-0ba29068f2a7"
      },
      "source": [
        "song_ids[:5]"
      ],
      "execution_count": null,
      "outputs": [
        {
          "output_type": "execute_result",
          "data": {
            "text/plain": [
              "['spotify:track:4Kh6cq3XgOGUK9yXQu7RTq',\n",
              " 'spotify:track:64zyMkiyBPSyCUgLl4AIXB',\n",
              " 'spotify:track:4Kh6cq3XgOGUK9yXQu7RTq',\n",
              " 'spotify:track:64zyMkiyBPSyCUgLl4AIXB',\n",
              " 'spotify:track:4Kh6cq3XgOGUK9yXQu7RTq']"
            ]
          },
          "metadata": {
            "tags": []
          },
          "execution_count": 17
        }
      ]
    },
    {
      "cell_type": "code",
      "metadata": {
        "colab": {
          "base_uri": "https://localhost:8080/"
        },
        "id": "7gWJFys1OjRu",
        "outputId": "ea6f6bc8-1eaa-4b53-cff0-311d6e3212cb"
      },
      "source": [
        "print(len(list(set(song_ids))))"
      ],
      "execution_count": null,
      "outputs": [
        {
          "output_type": "stream",
          "text": [
            "554363\n"
          ],
          "name": "stdout"
        }
      ]
    },
    {
      "cell_type": "code",
      "metadata": {
        "id": "OpndTfGXOpAy",
        "colab": {
          "base_uri": "https://localhost:8080/",
          "height": 158
        },
        "outputId": "98198220-7881-417b-ae5a-602bd45c0cb4"
      },
      "source": [
        "unique_songs = list(set(song_ids))"
      ],
      "execution_count": null,
      "outputs": [
        {
          "output_type": "error",
          "ename": "NameError",
          "evalue": "ignored",
          "traceback": [
            "\u001b[0;31m---------------------------------------------------------------------------\u001b[0m",
            "\u001b[0;31mNameError\u001b[0m                                 Traceback (most recent call last)",
            "\u001b[0;32m<ipython-input-4-81a159ce9a63>\u001b[0m in \u001b[0;36m<module>\u001b[0;34m()\u001b[0m\n\u001b[0;32m----> 1\u001b[0;31m \u001b[0munique_songs\u001b[0m \u001b[0;34m=\u001b[0m \u001b[0mlist\u001b[0m\u001b[0;34m(\u001b[0m\u001b[0mset\u001b[0m\u001b[0;34m(\u001b[0m\u001b[0msong_ids\u001b[0m\u001b[0;34m)\u001b[0m\u001b[0;34m)\u001b[0m\u001b[0;34m\u001b[0m\u001b[0;34m\u001b[0m\u001b[0m\n\u001b[0m",
            "\u001b[0;31mNameError\u001b[0m: name 'song_ids' is not defined"
          ]
        }
      ]
    },
    {
      "cell_type": "code",
      "metadata": {
        "id": "h-PSwSOuOsJh"
      },
      "source": [
        "song_feature_list = ['danceability', 'energy', 'key',\n",
        "                     'loudness', 'mode', 'speechiness',\n",
        "                     'instrumentalness', 'liveness', 'valence',\n",
        "                     'acousticness',\n",
        "                     'tempo', 'duration_ms', 'time_signature']\n",
        "songs_df = pd.DataFrame(columns=song_feature_list)\n",
        "for song in song_ids:\n",
        "  try:\n",
        "    audio_features = sp.audio_features(song)\n",
        "    af = audio_features[0]\n",
        "    song_features = {}\n",
        "    if af != None:\n",
        "      try:\n",
        "        song_features['id'] = af['uri']\n",
        "        song_features['danceability'] = af['danceability']\n",
        "        song_features['energy'] = af['energy']\n",
        "        song_features['key'] = af['key']\n",
        "        song_features['loudness'] = af['loudness']\n",
        "        song_features['mode'] = af['mode']\n",
        "        song_features['speechiness'] = af['speechiness']\n",
        "        song_features['acousticness'] = af['acousticness']\n",
        "        song_features['instrumentalness'] = af['instrumentalness']\n",
        "        song_features['liveness'] = af['liveness']\n",
        "        song_features['valence'] = af['valence']\n",
        "        song_features['tempo'] = af['tempo']\n",
        "        song_features['duration_ms'] = af['duration_ms']\n",
        "        song_features['time_signature'] = af['time_signature']\n",
        "\n",
        "        song_df = pd.DataFrame(song_features, index=[0])\n",
        "        songs_df = pd.concat([songs_df, song_df], ignore_index=True)\n",
        "      except:\n",
        "        pass\n",
        "    else:\n",
        "      pass\n",
        "  except:\n",
        "    pass"
      ],
      "execution_count": null,
      "outputs": []
    },
    {
      "cell_type": "code",
      "metadata": {
        "id": "fkjv_khkbDoJ"
      },
      "source": [
        ""
      ],
      "execution_count": null,
      "outputs": []
    }
  ]
}